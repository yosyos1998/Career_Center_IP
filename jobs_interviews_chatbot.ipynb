{
  "cells": [
    {
      "cell_type": "code",
      "execution_count": null,
      "id": "ce8c8161",
      "metadata": {
        "scrolled": true,
        "id": "ce8c8161"
      },
      "outputs": [],
      "source": [
        "import openai\n",
        "import time"
      ]
    },
    {
      "cell_type": "markdown",
      "id": "6f0861c9",
      "metadata": {
        "id": "6f0861c9"
      },
      "source": [
        "This code uses the OpenAI GPT-3 API to generate responses to interview questions. It starts by asking for the user's name and then proceeds to ask a series of common interview questions. For each question, the code uses the ask_question function to generate a response using the GPT-3 API. The response is then printed to the console."
      ]
    },
    {
      "cell_type": "code",
      "execution_count": null,
      "id": "25e3eb99",
      "metadata": {
        "id": "25e3eb99"
      },
      "outputs": [],
      "source": [
        "openai.api_key = \"YOUR_API_KEY\""
      ]
    },
    {
      "cell_type": "code",
      "execution_count": null,
      "id": "ff82004e",
      "metadata": {
        "id": "ff82004e"
      },
      "outputs": [],
      "source": [
        "def ask_question(prompt):\n",
        "    response = openai.Completion.create(\n",
        "      engine=\"davinci\",\n",
        "      prompt=prompt,\n",
        "      max_tokens=1024,\n",
        "      n=1,\n",
        "      stop=None,\n",
        "      temperature=0.5,\n",
        "    )\n",
        "\n",
        "    answer = response.choices[0].text.strip()\n",
        "    return answer"
      ]
    },
    {
      "cell_type": "code",
      "execution_count": null,
      "id": "d0190373",
      "metadata": {
        "id": "d0190373"
      },
      "outputs": [],
      "source": [
        "def interview():\n",
        "    print(\"Welcome to the interview! Please answer the following questions:\\n\")\n",
        "    time.sleep(1)\n",
        "\n",
        "    name = input(\"What is your name? \")\n",
        "    time.sleep(1)\n",
        "\n",
        "    response = ask_question(f\"Tell me about yourself, {name}.\")\n",
        "    print(f\"\\n{response}\")\n",
        "    time.sleep(1)\n",
        "\n",
        "    response = ask_question(f\"What are your greatest strengths, {name}?\")\n",
        "    print(f\"\\n{response}\")\n",
        "    time.sleep(1)\n",
        "\n",
        "    response = ask_question(f\"What are your greatest weaknesses, {name}?\")\n",
        "    print(f\"\\n{response}\")\n",
        "    time.sleep(1)\n",
        "\n",
        "    response = ask_question(f\"Why do you want to work for our company, {name}?\")\n",
        "    print(f\"\\n{response}\")\n",
        "    time.sleep(1)\n",
        "\n",
        "    response = ask_question(f\"Tell me about a time when you faced a difficult situation and how you overcame it, {name}.\")\n",
        "    print(f\"\\n{response}\")\n",
        "    time.sleep(1)\n",
        "\n",
        "    response = ask_question(f\"Do you have any questions for me, {name}?\")\n",
        "    print(f\"\\n{response}\")\n",
        "\n",
        "interview()"
      ]
    },
    {
      "cell_type": "markdown",
      "id": "8983687c",
      "metadata": {
        "id": "8983687c"
      },
      "source": [
        "To run this code, you'll need to replace \"YOUR_API_KEY\" with your actual OpenAI API key. You'll also need to have the OpenAI Python library installed (pip install openai)."
      ]
    }
  ],
  "metadata": {
    "kernelspec": {
      "display_name": "Python 3 (ipykernel)",
      "language": "python",
      "name": "python3"
    },
    "language_info": {
      "codemirror_mode": {
        "name": "ipython",
        "version": 3
      },
      "file_extension": ".py",
      "mimetype": "text/x-python",
      "name": "python",
      "nbconvert_exporter": "python",
      "pygments_lexer": "ipython3",
      "version": "3.9.7"
    },
    "colab": {
      "provenance": []
    }
  },
  "nbformat": 4,
  "nbformat_minor": 5
}