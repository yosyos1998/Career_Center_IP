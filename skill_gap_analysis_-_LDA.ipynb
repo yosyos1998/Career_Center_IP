{
 "cells": [
  {
   "cell_type": "code",
   "execution_count": 1,
   "id": "e145eb20",
   "metadata": {},
   "outputs": [],
   "source": [
    "import pandas as pd\n",
    "from sklearn.feature_extraction.text import CountVectorizer\n",
    "from sklearn.decomposition import LatentDirichletAllocation"
   ]
  },
  {
   "cell_type": "code",
   "execution_count": 2,
   "id": "e587d50e",
   "metadata": {},
   "outputs": [],
   "source": [
    "# Load the job offers dataset\n",
    "df = pd.read_csv('FinalDataSetJobOffers.csv')"
   ]
  },
  {
   "cell_type": "code",
   "execution_count": 3,
   "id": "d26c14c3",
   "metadata": {
    "scrolled": true
   },
   "outputs": [],
   "source": [
    "# Replace missing values with an empty string\n",
    "df['Required skills'].fillna('', inplace=True)"
   ]
  },
  {
   "cell_type": "code",
   "execution_count": 4,
   "id": "06f0aebd",
   "metadata": {},
   "outputs": [],
   "source": [
    "\n",
    "# Extract the skills from job descriptions\n",
    "vectorizer = CountVectorizer(stop_words='english')\n",
    "skills_matrix = vectorizer.fit_transform(df['Required skills'])"
   ]
  },
  {
   "cell_type": "code",
   "execution_count": 5,
   "id": "3c48065b",
   "metadata": {},
   "outputs": [
    {
     "data": {
      "text/plain": [
       "LatentDirichletAllocation(random_state=42)"
      ]
     },
     "execution_count": 5,
     "metadata": {},
     "output_type": "execute_result"
    }
   ],
   "source": [
    "\n",
    "# Apply Latent Dirichlet Allocation to identify topics\n",
    "lda = LatentDirichletAllocation(n_components=10, random_state=42)\n",
    "lda.fit(skills_matrix)\n"
   ]
  },
  {
   "cell_type": "code",
   "execution_count": 6,
   "id": "14a83719",
   "metadata": {},
   "outputs": [
    {
     "name": "stdout",
     "output_type": "stream",
     "text": [
      "Topic 0\n",
      "['network', 'linux', 'secur', 'troubleshoot', 'commun', 'support', 'window', 'administr', 'hardwar', 'microsoft']\n",
      "Topic 1\n",
      "['skill', 'java', 'cloud', 'python', 'develop', 'aw', 'softwar', 'azur', 'devop', 'test']\n",
      "Topic 2\n",
      "['javascript', 'html', 'commun', 'cs', 'skill', 'market', 'php', 'written', 'analyt', 'verbal']\n",
      "Topic 3\n"
     ]
    },
    {
     "name": "stderr",
     "output_type": "stream",
     "text": [
      "C:\\Users\\LENOVO\\anaconda3\\lib\\site-packages\\sklearn\\utils\\deprecation.py:87: FutureWarning: Function get_feature_names is deprecated; get_feature_names is deprecated in 1.0 and will be removed in 1.2. Please use get_feature_names_out instead.\n",
      "  warnings.warn(msg, category=FutureWarning)\n"
     ]
    },
    {
     "name": "stdout",
     "output_type": "stream",
     "text": [
      "['data', 'sql', 'learn', 'machin', 'visual', 'clean', 'excel', 'python', 'power', 'bi']\n",
      "Topic 4\n",
      "['manag', 'data', 'busi', 'analysi', 'analyt', 'project', 'skill', 'consult', 'servic', 'process']\n",
      "Topic 5\n",
      "['knowledg', 'experi', 'abil', 'skill', 'work', 'develop', 'languag', 'good', 'year', 'english']\n",
      "Topic 6\n",
      "['experi', 'knowledg', 'work', 'develop', 'good', 'year', 'languag', 'web', 'skill', 'abil']\n",
      "Topic 7\n",
      "['data', 'scienc', 'comput', 'learn', 'machin', 'analyt', 'skill', 'python', 'structur', 'design']\n",
      "Topic 8\n",
      "['test', 'autom', 'skill', 'softwar', 'agil', 'perform', 'selenium', 'script', 'linux', 'qualiti']\n",
      "Topic 9\n",
      "['java', 'develop', 'net', 'sql', 'api', 'softwar', 'web', 'rest', 'javascript', 'skill']\n"
     ]
    }
   ],
   "source": [
    "# Print the top 10 keywords for each topic\n",
    "for idx, topic in enumerate(lda.components_):\n",
    "    print(f\"Topic {idx}\")\n",
    "    print([vectorizer.get_feature_names()[i] for i in topic.argsort()[:-11:-1]])"
   ]
  },
  {
   "cell_type": "code",
   "execution_count": null,
   "id": "b1984174",
   "metadata": {},
   "outputs": [],
   "source": []
  }
 ],
 "metadata": {
  "kernelspec": {
   "display_name": "Python 3 (ipykernel)",
   "language": "python",
   "name": "python3"
  },
  "language_info": {
   "codemirror_mode": {
    "name": "ipython",
    "version": 3
   },
   "file_extension": ".py",
   "mimetype": "text/x-python",
   "name": "python",
   "nbconvert_exporter": "python",
   "pygments_lexer": "ipython3",
   "version": "3.9.12"
  }
 },
 "nbformat": 4,
 "nbformat_minor": 5
}
