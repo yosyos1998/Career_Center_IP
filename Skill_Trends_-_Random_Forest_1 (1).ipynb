{
 "cells": [
  {
   "cell_type": "code",
   "execution_count": 21,
   "id": "3ac746c1",
   "metadata": {},
   "outputs": [],
   "source": [
    "import pandas as pd\n",
    "from sklearn.feature_extraction.text import CountVectorizer\n",
    "from sklearn.ensemble import RandomForestClassifier\n"
   ]
  },
  {
   "cell_type": "code",
   "execution_count": 22,
   "id": "927e99df",
   "metadata": {},
   "outputs": [],
   "source": [
    "# Load the job postings data\n",
    "df = pd.read_csv('FinalDataSetJobOffers.csv')"
   ]
  },
  {
   "cell_type": "code",
   "execution_count": 25,
   "id": "1ab8b40e",
   "metadata": {
    "scrolled": true
   },
   "outputs": [],
   "source": [
    "# Replace NaN values with an empty string\n",
    "df.fillna(value='', inplace=True)"
   ]
  },
  {
   "cell_type": "code",
   "execution_count": 29,
   "id": "909bb537",
   "metadata": {},
   "outputs": [],
   "source": [
    "# Create a sample DataFrame (e.g., the first 100 rows)\n",
    "sample_df = df.head(100)"
   ]
  },
  {
   "cell_type": "code",
   "execution_count": 36,
   "id": "fe607ac2",
   "metadata": {},
   "outputs": [],
   "source": [
    "# Preprocess the data\n",
    "vectorizer = CountVectorizer()\n",
    "X = vectorizer.fit_transform(sample_df['Job post'] + ' ' + sample_df['Company name'] + ' ' + sample_df['Job description'] + ' ' + sample_df['Required skills'] + ' ' + sample_df['Location'])\n",
    "y = sample_df['Required skills']"
   ]
  },
  {
   "cell_type": "code",
   "execution_count": 37,
   "id": "88fc49d9",
   "metadata": {},
   "outputs": [],
   "source": [
    "# Split the data into training and testing sets\n",
    "X_train, X_test, y_train, y_test = train_test_split(X, y, test_size=0.2)"
   ]
  },
  {
   "cell_type": "code",
   "execution_count": 38,
   "id": "855c7eeb",
   "metadata": {},
   "outputs": [
    {
     "data": {
      "text/plain": [
       "RandomForestClassifier()"
      ]
     },
     "execution_count": 38,
     "metadata": {},
     "output_type": "execute_result"
    }
   ],
   "source": [
    "\n",
    "# Build a Random Forest model and train it on the training data\n",
    "rf = RandomForestClassifier()\n",
    "rf.fit(X_train, y_train)"
   ]
  },
  {
   "cell_type": "code",
   "execution_count": 39,
   "id": "4fbb449b",
   "metadata": {},
   "outputs": [],
   "source": [
    "\n",
    "# Use the trained model to predict the skills trends for the testing data\n",
    "y_pred = rf.predict(X_test)"
   ]
  },
  {
   "cell_type": "code",
   "execution_count": 40,
   "id": "2b487b39",
   "metadata": {},
   "outputs": [
    {
     "name": "stdout",
     "output_type": "stream",
     "text": [
      "Top 10 trending skills: ['skill test unix comput scienc autom backend test tool function test', 'it-hardwar network softwar manag inform technolog', 'network administr comput network infrastructur server administr network secur network instal hardwar comput hardwar', 'project manag agil deliveri manag skill cloud .net pmo deliveri leadership', 'html5 debug c cs m sql ajax asp net jqueri', 'java skill softwar develop test cloud aw softwar engin continu integr', 'network linux memori manag debug open sourc webspher cloud softwar develop life cycl', 'instal window administr system administr activ directori troubleshoot epbx system ftp configur', 'rest api debug j mysql php kubernet azur aw', 'server bca autom develop network configur web host apach']\n"
     ]
    }
   ],
   "source": [
    "\n",
    "# Extract the top 10 trending skills and print them\n",
    "skills_count = {}\n",
    "for pred in y_pred:\n",
    "    for skill in pred.split(', '):\n",
    "        if skill in skills_count:\n",
    "            skills_count[skill] += 1\n",
    "        else:\n",
    "            skills_count[skill] = 1\n",
    "top_skills = sorted(skills_count.items(), key=lambda x: x[1], reverse=True)[:10]\n",
    "print(\"Top 10 trending skills:\", [skill[0] for skill in top_skills])\n"
   ]
  },
  {
   "cell_type": "code",
   "execution_count": null,
   "id": "fc006da4",
   "metadata": {},
   "outputs": [],
   "source": []
  },
  {
   "cell_type": "code",
   "execution_count": null,
   "id": "f5910c63",
   "metadata": {},
   "outputs": [],
   "source": []
  }
 ],
 "metadata": {
  "kernelspec": {
   "display_name": "Python 3 (ipykernel)",
   "language": "python",
   "name": "python3"
  },
  "language_info": {
   "codemirror_mode": {
    "name": "ipython",
    "version": 3
   },
   "file_extension": ".py",
   "mimetype": "text/x-python",
   "name": "python",
   "nbconvert_exporter": "python",
   "pygments_lexer": "ipython3",
   "version": "3.9.12"
  }
 },
 "nbformat": 4,
 "nbformat_minor": 5
}
