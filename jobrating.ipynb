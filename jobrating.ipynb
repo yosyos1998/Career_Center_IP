{
  "cells": [
    {
      "cell_type": "code",
      "execution_count": null,
      "id": "abe5230c",
      "metadata": {
        "id": "abe5230c",
        "outputId": "1f68a437-c657-4380-9738-6a11c83e5935"
      },
      "outputs": [
        {
          "name": "stdout",
          "output_type": "stream",
          "text": [
            "Welcome to the job rating system!\n",
            "\n"
          ]
        }
      ],
      "source": [
        "import openai\n",
        "\n",
        "openai.api_key = \"YOUR_API_KEY\"\n",
        "\n",
        "def rate_job(job_title):\n",
        "    prompt = f\"Please rate the following job on a scale of 1 to 10:\\n\\n{job_title}\\n\\nRating:\"\n",
        "\n",
        "    response = openai.Completion.create(\n",
        "      engine=\"davinci\",\n",
        "      prompt=prompt,\n",
        "      max_tokens=1024,\n",
        "      n=1,\n",
        "      stop=None,\n",
        "      temperature=0.5,\n",
        "    )\n",
        "\n",
        "    rating = response.choices[0].text.strip()\n",
        "    return rating\n",
        "\n",
        "def main():\n",
        "    print(\"Welcome to the job rating system!\\n\")\n",
        "\n",
        "    job_title = input(\"Please enter the job title you would like to rate: \")\n",
        "    rating = rate_job(job_title)\n",
        "\n",
        "    print(f\"\\nThe rating for this job is {rating} out of 10.\")\n",
        "\n",
        "if __name__ == '__main__':\n",
        "    main()\n"
      ]
    },
    {
      "cell_type": "code",
      "execution_count": null,
      "id": "439500f2",
      "metadata": {
        "id": "439500f2"
      },
      "outputs": [],
      "source": []
    }
  ],
  "metadata": {
    "kernelspec": {
      "display_name": "Python 3 (ipykernel)",
      "language": "python",
      "name": "python3"
    },
    "language_info": {
      "codemirror_mode": {
        "name": "ipython",
        "version": 3
      },
      "file_extension": ".py",
      "mimetype": "text/x-python",
      "name": "python",
      "nbconvert_exporter": "python",
      "pygments_lexer": "ipython3",
      "version": "3.9.7"
    },
    "colab": {
      "provenance": []
    }
  },
  "nbformat": 4,
  "nbformat_minor": 5
}