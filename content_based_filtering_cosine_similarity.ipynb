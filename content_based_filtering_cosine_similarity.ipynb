{
  "nbformat": 4,
  "nbformat_minor": 0,
  "metadata": {
    "colab": {
      "provenance": []
    },
    "kernelspec": {
      "name": "python3",
      "display_name": "Python 3"
    },
    "language_info": {
      "name": "python"
    }
  },
  "cells": [
    {
      "cell_type": "code",
      "execution_count": 1,
      "metadata": {
        "id": "-O8Li0If2biC"
      },
      "outputs": [],
      "source": [
        "import pandas as pd\n",
        "import numpy as np\n",
        "import nltk\n",
        "from nltk.corpus import stopwords\n",
        "from nltk.stem import WordNetLemmatizer\n",
        "from sklearn.feature_extraction.text import TfidfVectorizer\n",
        "from sklearn.metrics.pairwise import cosine_similarity\n"
      ]
    },
    {
      "cell_type": "code",
      "source": [
        "# Select a random sample of 10% of the job offers and job applications\n",
        "job_offers = pd.read_csv('FinalDataSetJobOffers.csv').sample(frac=0.1, random_state=42)\n",
        "job_seekers= pd.read_csv('CvDatasetFinal_3.csv').sample(frac=0.1, random_state=42)"
      ],
      "metadata": {
        "id": "40tp64gU2iUS"
      },
      "execution_count": 2,
      "outputs": []
    },
    {
      "cell_type": "code",
      "source": [
        "job_offers.head()"
      ],
      "metadata": {
        "colab": {
          "base_uri": "https://localhost:8080/",
          "height": 667
        },
        "id": "VmWk0DYD3Ix_",
        "outputId": "b23a8a9a-9ac2-4648-ae15-1807e6d89739"
      },
      "execution_count": 8,
      "outputs": [
        {
          "output_type": "execute_result",
          "data": {
            "text/plain": [
              "                                        Job post               Company name  \\\n",
              "19774                             incent compens  axtria india privat limit   \n",
              "17859                contractu hire data analyst                   axi bank   \n",
              "7220                        senior softwar engin           unizen technolog   \n",
              "4744                      senior softwar develop                        ibm   \n",
              "4170   android develop awc softwar pvt ltd noida        awc softwar pvt ltd   \n",
              "\n",
              "                                         Job description  \\\n",
              "19774  hands-on experi work rang healthcar data sale ...   \n",
              "17859  master graduat data scienc engin comput scienc...   \n",
              "7220   design develop unit test linux devic driver re...   \n",
              "4744   minimum 7 year experi fortran c c java shell s...   \n",
              "4170   posit android kotlin 3 year noida.not look 15 ...   \n",
              "\n",
              "                                         Required skills  \\\n",
              "19774  excel sql oper manag data analyt vba report ad...   \n",
              "17859                  data analysi sql data scienc bank   \n",
              "7220   git linux o commun u boot unit test jtag arm l...   \n",
              "4744   comput scienc softwar design code xml html ski...   \n",
              "4170                                      android kotlin   \n",
              "\n",
              "                                                Location  Company rating  \\\n",
              "19774  noida hyderabad/secunderabad pune bangalore/be...             3.6   \n",
              "17859                                              remot             3.9   \n",
              "7220                                 bangalore/bengaluru             3.5   \n",
              "4744                                        kochi/cochin             4.2   \n",
              "4170                                               noida             4.1   \n",
              "\n",
              "       Company review Experience required  \n",
              "19774           162.0              2-6 yr  \n",
              "17859         16434.0              3-4 yr  \n",
              "7220              7.0               10 yr  \n",
              "4744          13315.0               10 yr  \n",
              "4170             83.0              3-5 yr  "
            ],
            "text/html": [
              "\n",
              "  <div id=\"df-56ea412c-31f0-46da-bd42-fbc6be7530a8\">\n",
              "    <div class=\"colab-df-container\">\n",
              "      <div>\n",
              "<style scoped>\n",
              "    .dataframe tbody tr th:only-of-type {\n",
              "        vertical-align: middle;\n",
              "    }\n",
              "\n",
              "    .dataframe tbody tr th {\n",
              "        vertical-align: top;\n",
              "    }\n",
              "\n",
              "    .dataframe thead th {\n",
              "        text-align: right;\n",
              "    }\n",
              "</style>\n",
              "<table border=\"1\" class=\"dataframe\">\n",
              "  <thead>\n",
              "    <tr style=\"text-align: right;\">\n",
              "      <th></th>\n",
              "      <th>Job post</th>\n",
              "      <th>Company name</th>\n",
              "      <th>Job description</th>\n",
              "      <th>Required skills</th>\n",
              "      <th>Location</th>\n",
              "      <th>Company rating</th>\n",
              "      <th>Company review</th>\n",
              "      <th>Experience required</th>\n",
              "    </tr>\n",
              "  </thead>\n",
              "  <tbody>\n",
              "    <tr>\n",
              "      <th>19774</th>\n",
              "      <td>incent compens</td>\n",
              "      <td>axtria india privat limit</td>\n",
              "      <td>hands-on experi work rang healthcar data sale ...</td>\n",
              "      <td>excel sql oper manag data analyt vba report ad...</td>\n",
              "      <td>noida hyderabad/secunderabad pune bangalore/be...</td>\n",
              "      <td>3.6</td>\n",
              "      <td>162.0</td>\n",
              "      <td>2-6 yr</td>\n",
              "    </tr>\n",
              "    <tr>\n",
              "      <th>17859</th>\n",
              "      <td>contractu hire data analyst</td>\n",
              "      <td>axi bank</td>\n",
              "      <td>master graduat data scienc engin comput scienc...</td>\n",
              "      <td>data analysi sql data scienc bank</td>\n",
              "      <td>remot</td>\n",
              "      <td>3.9</td>\n",
              "      <td>16434.0</td>\n",
              "      <td>3-4 yr</td>\n",
              "    </tr>\n",
              "    <tr>\n",
              "      <th>7220</th>\n",
              "      <td>senior softwar engin</td>\n",
              "      <td>unizen technolog</td>\n",
              "      <td>design develop unit test linux devic driver re...</td>\n",
              "      <td>git linux o commun u boot unit test jtag arm l...</td>\n",
              "      <td>bangalore/bengaluru</td>\n",
              "      <td>3.5</td>\n",
              "      <td>7.0</td>\n",
              "      <td>10 yr</td>\n",
              "    </tr>\n",
              "    <tr>\n",
              "      <th>4744</th>\n",
              "      <td>senior softwar develop</td>\n",
              "      <td>ibm</td>\n",
              "      <td>minimum 7 year experi fortran c c java shell s...</td>\n",
              "      <td>comput scienc softwar design code xml html ski...</td>\n",
              "      <td>kochi/cochin</td>\n",
              "      <td>4.2</td>\n",
              "      <td>13315.0</td>\n",
              "      <td>10 yr</td>\n",
              "    </tr>\n",
              "    <tr>\n",
              "      <th>4170</th>\n",
              "      <td>android develop awc softwar pvt ltd noida</td>\n",
              "      <td>awc softwar pvt ltd</td>\n",
              "      <td>posit android kotlin 3 year noida.not look 15 ...</td>\n",
              "      <td>android kotlin</td>\n",
              "      <td>noida</td>\n",
              "      <td>4.1</td>\n",
              "      <td>83.0</td>\n",
              "      <td>3-5 yr</td>\n",
              "    </tr>\n",
              "  </tbody>\n",
              "</table>\n",
              "</div>\n",
              "      <button class=\"colab-df-convert\" onclick=\"convertToInteractive('df-56ea412c-31f0-46da-bd42-fbc6be7530a8')\"\n",
              "              title=\"Convert this dataframe to an interactive table.\"\n",
              "              style=\"display:none;\">\n",
              "        \n",
              "  <svg xmlns=\"http://www.w3.org/2000/svg\" height=\"24px\"viewBox=\"0 0 24 24\"\n",
              "       width=\"24px\">\n",
              "    <path d=\"M0 0h24v24H0V0z\" fill=\"none\"/>\n",
              "    <path d=\"M18.56 5.44l.94 2.06.94-2.06 2.06-.94-2.06-.94-.94-2.06-.94 2.06-2.06.94zm-11 1L8.5 8.5l.94-2.06 2.06-.94-2.06-.94L8.5 2.5l-.94 2.06-2.06.94zm10 10l.94 2.06.94-2.06 2.06-.94-2.06-.94-.94-2.06-.94 2.06-2.06.94z\"/><path d=\"M17.41 7.96l-1.37-1.37c-.4-.4-.92-.59-1.43-.59-.52 0-1.04.2-1.43.59L10.3 9.45l-7.72 7.72c-.78.78-.78 2.05 0 2.83L4 21.41c.39.39.9.59 1.41.59.51 0 1.02-.2 1.41-.59l7.78-7.78 2.81-2.81c.8-.78.8-2.07 0-2.86zM5.41 20L4 18.59l7.72-7.72 1.47 1.35L5.41 20z\"/>\n",
              "  </svg>\n",
              "      </button>\n",
              "      \n",
              "  <style>\n",
              "    .colab-df-container {\n",
              "      display:flex;\n",
              "      flex-wrap:wrap;\n",
              "      gap: 12px;\n",
              "    }\n",
              "\n",
              "    .colab-df-convert {\n",
              "      background-color: #E8F0FE;\n",
              "      border: none;\n",
              "      border-radius: 50%;\n",
              "      cursor: pointer;\n",
              "      display: none;\n",
              "      fill: #1967D2;\n",
              "      height: 32px;\n",
              "      padding: 0 0 0 0;\n",
              "      width: 32px;\n",
              "    }\n",
              "\n",
              "    .colab-df-convert:hover {\n",
              "      background-color: #E2EBFA;\n",
              "      box-shadow: 0px 1px 2px rgba(60, 64, 67, 0.3), 0px 1px 3px 1px rgba(60, 64, 67, 0.15);\n",
              "      fill: #174EA6;\n",
              "    }\n",
              "\n",
              "    [theme=dark] .colab-df-convert {\n",
              "      background-color: #3B4455;\n",
              "      fill: #D2E3FC;\n",
              "    }\n",
              "\n",
              "    [theme=dark] .colab-df-convert:hover {\n",
              "      background-color: #434B5C;\n",
              "      box-shadow: 0px 1px 3px 1px rgba(0, 0, 0, 0.15);\n",
              "      filter: drop-shadow(0px 1px 2px rgba(0, 0, 0, 0.3));\n",
              "      fill: #FFFFFF;\n",
              "    }\n",
              "  </style>\n",
              "\n",
              "      <script>\n",
              "        const buttonEl =\n",
              "          document.querySelector('#df-56ea412c-31f0-46da-bd42-fbc6be7530a8 button.colab-df-convert');\n",
              "        buttonEl.style.display =\n",
              "          google.colab.kernel.accessAllowed ? 'block' : 'none';\n",
              "\n",
              "        async function convertToInteractive(key) {\n",
              "          const element = document.querySelector('#df-56ea412c-31f0-46da-bd42-fbc6be7530a8');\n",
              "          const dataTable =\n",
              "            await google.colab.kernel.invokeFunction('convertToInteractive',\n",
              "                                                     [key], {});\n",
              "          if (!dataTable) return;\n",
              "\n",
              "          const docLinkHtml = 'Like what you see? Visit the ' +\n",
              "            '<a target=\"_blank\" href=https://colab.research.google.com/notebooks/data_table.ipynb>data table notebook</a>'\n",
              "            + ' to learn more about interactive tables.';\n",
              "          element.innerHTML = '';\n",
              "          dataTable['output_type'] = 'display_data';\n",
              "          await google.colab.output.renderOutput(dataTable, element);\n",
              "          const docLink = document.createElement('div');\n",
              "          docLink.innerHTML = docLinkHtml;\n",
              "          element.appendChild(docLink);\n",
              "        }\n",
              "      </script>\n",
              "    </div>\n",
              "  </div>\n",
              "  "
            ]
          },
          "metadata": {},
          "execution_count": 8
        }
      ]
    },
    {
      "cell_type": "code",
      "source": [
        "job_seekers.head()"
      ],
      "metadata": {
        "colab": {
          "base_uri": "https://localhost:8080/",
          "height": 635
        },
        "id": "RZKD9lyz3LbN",
        "outputId": "c9a7b602-12ee-4e9d-c591-8fd2bf2df953"
      },
      "execution_count": 9,
      "outputs": [
        {
          "output_type": "execute_result",
          "data": {
            "text/plain": [
              "                      Category             Name                      Email  \\\n",
              "140             Java Developer   Karen Thompson   karen.thompson@gmail.com   \n",
              "398                     Hadoop     Andrew Adams     andrew.adams@gmail.com   \n",
              "6                 Data Science  Christine Myers  christine.myers@gmail.com   \n",
              "334  Network Security Engineer     Jade Hensley     jade.hensley@gmail.com   \n",
              "322  Network Security Engineer   Tiffany Bailey   tiffany.bailey@gmail.com   \n",
              "\n",
              "                     Phone                                          Education  \\\n",
              "140           343.781.4444  detail bachelor engineering computer savitriba...   \n",
              "398  001-559-587-9020x6074  detail electronics communication indore madhya...   \n",
              "6    +1-131-902-7364x03539  detail january 2017 b tech computer science en...   \n",
              "334    (558)588-2984x33032  detail july 2012 april 2015 bachelor science i...   \n",
              "322           548.866.0991  detail september 2006 august 2011 bachelor eng...   \n",
              "\n",
              "                                                Skills  \\\n",
              "140  skill language java operating system window li...   \n",
              "398  set programming language apache hadoop python ...   \n",
              "6    skill python tableau data visualization studio...   \n",
              "334  skill writing skill english good certainly cle...   \n",
              "322  set skill skilled analyzing monitoring network...   \n",
              "\n",
              "                                            Experience  Experience_Rating  \n",
              "140  32 month linux 6 month adavance java le 1 year...                  5  \n",
              "398  31 month hadoop 31 month hadoop 31 month hive ...                  5  \n",
              "6    13 month python 24 month solution 24 month dat...                  5  \n",
              "334  24 monthscompany detail company karvy innotech...                  3  \n",
              "322  72 month checkpoint 72 month cisco 72 month ci...                  5  "
            ],
            "text/html": [
              "\n",
              "  <div id=\"df-51c807a7-ec44-4407-a88e-801b6530f838\">\n",
              "    <div class=\"colab-df-container\">\n",
              "      <div>\n",
              "<style scoped>\n",
              "    .dataframe tbody tr th:only-of-type {\n",
              "        vertical-align: middle;\n",
              "    }\n",
              "\n",
              "    .dataframe tbody tr th {\n",
              "        vertical-align: top;\n",
              "    }\n",
              "\n",
              "    .dataframe thead th {\n",
              "        text-align: right;\n",
              "    }\n",
              "</style>\n",
              "<table border=\"1\" class=\"dataframe\">\n",
              "  <thead>\n",
              "    <tr style=\"text-align: right;\">\n",
              "      <th></th>\n",
              "      <th>Category</th>\n",
              "      <th>Name</th>\n",
              "      <th>Email</th>\n",
              "      <th>Phone</th>\n",
              "      <th>Education</th>\n",
              "      <th>Skills</th>\n",
              "      <th>Experience</th>\n",
              "      <th>Experience_Rating</th>\n",
              "    </tr>\n",
              "  </thead>\n",
              "  <tbody>\n",
              "    <tr>\n",
              "      <th>140</th>\n",
              "      <td>Java Developer</td>\n",
              "      <td>Karen Thompson</td>\n",
              "      <td>karen.thompson@gmail.com</td>\n",
              "      <td>343.781.4444</td>\n",
              "      <td>detail bachelor engineering computer savitriba...</td>\n",
              "      <td>skill language java operating system window li...</td>\n",
              "      <td>32 month linux 6 month adavance java le 1 year...</td>\n",
              "      <td>5</td>\n",
              "    </tr>\n",
              "    <tr>\n",
              "      <th>398</th>\n",
              "      <td>Hadoop</td>\n",
              "      <td>Andrew Adams</td>\n",
              "      <td>andrew.adams@gmail.com</td>\n",
              "      <td>001-559-587-9020x6074</td>\n",
              "      <td>detail electronics communication indore madhya...</td>\n",
              "      <td>set programming language apache hadoop python ...</td>\n",
              "      <td>31 month hadoop 31 month hadoop 31 month hive ...</td>\n",
              "      <td>5</td>\n",
              "    </tr>\n",
              "    <tr>\n",
              "      <th>6</th>\n",
              "      <td>Data Science</td>\n",
              "      <td>Christine Myers</td>\n",
              "      <td>christine.myers@gmail.com</td>\n",
              "      <td>+1-131-902-7364x03539</td>\n",
              "      <td>detail january 2017 b tech computer science en...</td>\n",
              "      <td>skill python tableau data visualization studio...</td>\n",
              "      <td>13 month python 24 month solution 24 month dat...</td>\n",
              "      <td>5</td>\n",
              "    </tr>\n",
              "    <tr>\n",
              "      <th>334</th>\n",
              "      <td>Network Security Engineer</td>\n",
              "      <td>Jade Hensley</td>\n",
              "      <td>jade.hensley@gmail.com</td>\n",
              "      <td>(558)588-2984x33032</td>\n",
              "      <td>detail july 2012 april 2015 bachelor science i...</td>\n",
              "      <td>skill writing skill english good certainly cle...</td>\n",
              "      <td>24 monthscompany detail company karvy innotech...</td>\n",
              "      <td>3</td>\n",
              "    </tr>\n",
              "    <tr>\n",
              "      <th>322</th>\n",
              "      <td>Network Security Engineer</td>\n",
              "      <td>Tiffany Bailey</td>\n",
              "      <td>tiffany.bailey@gmail.com</td>\n",
              "      <td>548.866.0991</td>\n",
              "      <td>detail september 2006 august 2011 bachelor eng...</td>\n",
              "      <td>set skill skilled analyzing monitoring network...</td>\n",
              "      <td>72 month checkpoint 72 month cisco 72 month ci...</td>\n",
              "      <td>5</td>\n",
              "    </tr>\n",
              "  </tbody>\n",
              "</table>\n",
              "</div>\n",
              "      <button class=\"colab-df-convert\" onclick=\"convertToInteractive('df-51c807a7-ec44-4407-a88e-801b6530f838')\"\n",
              "              title=\"Convert this dataframe to an interactive table.\"\n",
              "              style=\"display:none;\">\n",
              "        \n",
              "  <svg xmlns=\"http://www.w3.org/2000/svg\" height=\"24px\"viewBox=\"0 0 24 24\"\n",
              "       width=\"24px\">\n",
              "    <path d=\"M0 0h24v24H0V0z\" fill=\"none\"/>\n",
              "    <path d=\"M18.56 5.44l.94 2.06.94-2.06 2.06-.94-2.06-.94-.94-2.06-.94 2.06-2.06.94zm-11 1L8.5 8.5l.94-2.06 2.06-.94-2.06-.94L8.5 2.5l-.94 2.06-2.06.94zm10 10l.94 2.06.94-2.06 2.06-.94-2.06-.94-.94-2.06-.94 2.06-2.06.94z\"/><path d=\"M17.41 7.96l-1.37-1.37c-.4-.4-.92-.59-1.43-.59-.52 0-1.04.2-1.43.59L10.3 9.45l-7.72 7.72c-.78.78-.78 2.05 0 2.83L4 21.41c.39.39.9.59 1.41.59.51 0 1.02-.2 1.41-.59l7.78-7.78 2.81-2.81c.8-.78.8-2.07 0-2.86zM5.41 20L4 18.59l7.72-7.72 1.47 1.35L5.41 20z\"/>\n",
              "  </svg>\n",
              "      </button>\n",
              "      \n",
              "  <style>\n",
              "    .colab-df-container {\n",
              "      display:flex;\n",
              "      flex-wrap:wrap;\n",
              "      gap: 12px;\n",
              "    }\n",
              "\n",
              "    .colab-df-convert {\n",
              "      background-color: #E8F0FE;\n",
              "      border: none;\n",
              "      border-radius: 50%;\n",
              "      cursor: pointer;\n",
              "      display: none;\n",
              "      fill: #1967D2;\n",
              "      height: 32px;\n",
              "      padding: 0 0 0 0;\n",
              "      width: 32px;\n",
              "    }\n",
              "\n",
              "    .colab-df-convert:hover {\n",
              "      background-color: #E2EBFA;\n",
              "      box-shadow: 0px 1px 2px rgba(60, 64, 67, 0.3), 0px 1px 3px 1px rgba(60, 64, 67, 0.15);\n",
              "      fill: #174EA6;\n",
              "    }\n",
              "\n",
              "    [theme=dark] .colab-df-convert {\n",
              "      background-color: #3B4455;\n",
              "      fill: #D2E3FC;\n",
              "    }\n",
              "\n",
              "    [theme=dark] .colab-df-convert:hover {\n",
              "      background-color: #434B5C;\n",
              "      box-shadow: 0px 1px 3px 1px rgba(0, 0, 0, 0.15);\n",
              "      filter: drop-shadow(0px 1px 2px rgba(0, 0, 0, 0.3));\n",
              "      fill: #FFFFFF;\n",
              "    }\n",
              "  </style>\n",
              "\n",
              "      <script>\n",
              "        const buttonEl =\n",
              "          document.querySelector('#df-51c807a7-ec44-4407-a88e-801b6530f838 button.colab-df-convert');\n",
              "        buttonEl.style.display =\n",
              "          google.colab.kernel.accessAllowed ? 'block' : 'none';\n",
              "\n",
              "        async function convertToInteractive(key) {\n",
              "          const element = document.querySelector('#df-51c807a7-ec44-4407-a88e-801b6530f838');\n",
              "          const dataTable =\n",
              "            await google.colab.kernel.invokeFunction('convertToInteractive',\n",
              "                                                     [key], {});\n",
              "          if (!dataTable) return;\n",
              "\n",
              "          const docLinkHtml = 'Like what you see? Visit the ' +\n",
              "            '<a target=\"_blank\" href=https://colab.research.google.com/notebooks/data_table.ipynb>data table notebook</a>'\n",
              "            + ' to learn more about interactive tables.';\n",
              "          element.innerHTML = '';\n",
              "          dataTable['output_type'] = 'display_data';\n",
              "          await google.colab.output.renderOutput(dataTable, element);\n",
              "          const docLink = document.createElement('div');\n",
              "          docLink.innerHTML = docLinkHtml;\n",
              "          element.appendChild(docLink);\n",
              "        }\n",
              "      </script>\n",
              "    </div>\n",
              "  </div>\n",
              "  "
            ]
          },
          "metadata": {},
          "execution_count": 9
        }
      ]
    },
    {
      "cell_type": "code",
      "source": [
        "# Check for missing values in the job offers dataframe\n",
        "print(\"Missing values in job_offers:\")\n",
        "print(job_offers.isna().sum())\n",
        "\n",
        "# Check for missing values in the job applications dataframe\n",
        "print(\"Missing values in job_applications:\")\n",
        "print(job_seekers.isna().sum())"
      ],
      "metadata": {
        "colab": {
          "base_uri": "https://localhost:8080/"
        },
        "id": "c2t_YaPW2vHJ",
        "outputId": "afae8238-c091-4aed-f059-a89b1a2d7c09"
      },
      "execution_count": 3,
      "outputs": [
        {
          "output_type": "stream",
          "name": "stdout",
          "text": [
            "Missing values in job_offers:\n",
            "Job post               0\n",
            "Company name           0\n",
            "Job description        0\n",
            "Required skills        0\n",
            "Location               0\n",
            "Company rating         0\n",
            "Company review         0\n",
            "Experience required    0\n",
            "dtype: int64\n",
            "Missing values in job_applications:\n",
            "Category             0\n",
            "Name                 0\n",
            "Email                0\n",
            "Phone                0\n",
            "Education            0\n",
            "Skills               0\n",
            "Experience           2\n",
            "Experience_Rating    0\n",
            "dtype: int64\n"
          ]
        }
      ]
    },
    {
      "cell_type": "code",
      "source": [
        "# Drop rows with missing values in job_offers and job_applications dataframes\n",
        "job_offers.dropna(inplace=True)\n",
        "job_seekers.dropna(inplace=True)\n"
      ],
      "metadata": {
        "id": "CBzC9TQH2x9a"
      },
      "execution_count": 4,
      "outputs": []
    },
    {
      "cell_type": "code",
      "source": [
        "# Preprocess the job offer and job seeker descriptions\n",
        "nltk.download('stopwords')\n",
        "nltk.download('wordnet')"
      ],
      "metadata": {
        "colab": {
          "base_uri": "https://localhost:8080/"
        },
        "id": "aStAmzUb29aS",
        "outputId": "9773709c-6d1c-4d9c-cf8e-9ea224e96bcf"
      },
      "execution_count": 5,
      "outputs": [
        {
          "output_type": "stream",
          "name": "stderr",
          "text": [
            "[nltk_data] Downloading package stopwords to /root/nltk_data...\n",
            "[nltk_data]   Unzipping corpora/stopwords.zip.\n",
            "[nltk_data] Downloading package wordnet to /root/nltk_data...\n"
          ]
        },
        {
          "output_type": "execute_result",
          "data": {
            "text/plain": [
              "True"
            ]
          },
          "metadata": {},
          "execution_count": 5
        }
      ]
    },
    {
      "cell_type": "code",
      "source": [
        "import nltk\n",
        "nltk.download('punkt')"
      ],
      "metadata": {
        "colab": {
          "base_uri": "https://localhost:8080/"
        },
        "id": "Bz9sd24S3j2D",
        "outputId": "dd796771-8c3e-4617-8dc5-e7bb9012b80b"
      },
      "execution_count": 12,
      "outputs": [
        {
          "output_type": "stream",
          "name": "stderr",
          "text": [
            "[nltk_data] Downloading package punkt to /root/nltk_data...\n",
            "[nltk_data]   Unzipping tokenizers/punkt.zip.\n"
          ]
        },
        {
          "output_type": "execute_result",
          "data": {
            "text/plain": [
              "True"
            ]
          },
          "metadata": {},
          "execution_count": 12
        }
      ]
    },
    {
      "cell_type": "code",
      "source": [
        "stop_words = set(stopwords.words('english'))\n",
        "lemmatizer = WordNetLemmatizer()"
      ],
      "metadata": {
        "id": "AYnZ5F1y2_nA"
      },
      "execution_count": 6,
      "outputs": []
    },
    {
      "cell_type": "code",
      "source": [
        "def preprocess_text(text):\n",
        "    # Convert text to lowercase\n",
        "    text = text.lower()\n",
        "    \n",
        "    # Tokenize text into words\n",
        "    words = nltk.word_tokenize(text)\n",
        "    \n",
        "    # Remove stopwords and punctuation\n",
        "    words = [w for w in words if w not in stop_words and w.isalnum()]\n",
        "    \n",
        "    # Lemmatize words\n",
        "    words = [lemmatizer.lemmatize(w) for w in words]\n",
        "    \n",
        "    # Join words back into text\n",
        "    text = ' '.join(words)\n",
        "    \n",
        "    return text\n"
      ],
      "metadata": {
        "id": "aIgs2g2n3Bwy"
      },
      "execution_count": 7,
      "outputs": []
    },
    {
      "cell_type": "code",
      "source": [
        "job_offers['Required skills'] = job_offers['Required skills'].apply(preprocess_text)\n",
        "job_seekers['Skills'] = job_seekers['Skills'].apply(preprocess_text)\n"
      ],
      "metadata": {
        "id": "NSfUQMHw3D5L"
      },
      "execution_count": 13,
      "outputs": []
    },
    {
      "cell_type": "code",
      "source": [
        "# Vectorize the job offer and job seeker descriptions\n",
        "vectorizer = TfidfVectorizer()\n",
        "job_offer_vec = vectorizer.fit_transform(job_offers['Required skills'] )\n",
        "job_seeker_vecs = vectorizer.transform(job_seekers['Skills'])"
      ],
      "metadata": {
        "id": "Lue3JdBP3qK6"
      },
      "execution_count": 15,
      "outputs": []
    },
    {
      "cell_type": "code",
      "source": [
        "# Calculate cosine similarity between the job offer and job seeker descriptions\n",
        "similarity_scores = cosine_similarity(job_offer_vec, job_seeker_vecs)"
      ],
      "metadata": {
        "id": "u0TMZK-D3qQb"
      },
      "execution_count": 16,
      "outputs": []
    },
    {
      "cell_type": "code",
      "source": [
        "# Rank the job seekers based on similarity scores and recommend the top candidates\n",
        "job_seeker_scores = similarity_scores[0]\n",
        "top_candidates = np.argsort(job_seeker_scores)[::-1][:10]\n",
        "recommended_job_seekers = job_seekers.iloc[top_candidates]"
      ],
      "metadata": {
        "id": "gc_uNeql4HF3"
      },
      "execution_count": 18,
      "outputs": []
    },
    {
      "cell_type": "code",
      "source": [
        "target_job_title = 'Data Scientist'\n",
        "target_job_description = 'We are looking for a Data Scientist to join our team'\n",
        "\n",
        "target_job = job_offers[(job_offers['Job post'] == target_job_title) & (job_offers['Job description'] == target_job_description)]\n"
      ],
      "metadata": {
        "id": "LgT-5J5B4MuD"
      },
      "execution_count": 23,
      "outputs": []
    },
    {
      "cell_type": "code",
      "source": [
        "# Create a new job offer based on the target job title and description\n",
        "new_job_offer = pd.DataFrame({'Job psot': [target_job_title],\n",
        "                              'Job description': [target_job_description]})"
      ],
      "metadata": {
        "id": "5THWG0QF4rs6"
      },
      "execution_count": 24,
      "outputs": []
    },
    {
      "cell_type": "code",
      "source": [
        "# Preprocess the new job offer description\n",
        "new_job_offer['Job description'] = new_job_offer['Job description'].apply(preprocess_text)\n"
      ],
      "metadata": {
        "id": "RwrjITD-41S0"
      },
      "execution_count": 26,
      "outputs": []
    },
    {
      "cell_type": "code",
      "source": [
        "# Vectorize the new job offer description\n",
        "new_job_offer_vec = vectorizer.transform(new_job_offer['Job description'])"
      ],
      "metadata": {
        "id": "kersKpu946dm"
      },
      "execution_count": 27,
      "outputs": []
    },
    {
      "cell_type": "code",
      "source": [
        "# Calculate cosine similarity between the new job offer and job seeker descriptions\n",
        "similarity_scores = cosine_similarity(new_job_offer_vec, job_seeker_vecs)"
      ],
      "metadata": {
        "id": "JeOiPACL4_0l"
      },
      "execution_count": 28,
      "outputs": []
    },
    {
      "cell_type": "code",
      "source": [
        "# Rank the job seekers based on similarity scores and recommend the top candidates\n",
        "job_seeker_scores = similarity_scores[0]\n",
        "top_candidates = np.argsort(job_seeker_scores)[::-1][:10]\n",
        "recommended_job_seekers = job_seekers.iloc[top_candidates]"
      ],
      "metadata": {
        "id": "5z1BwWmj5Ca5"
      },
      "execution_count": 30,
      "outputs": []
    },
    {
      "cell_type": "code",
      "source": [
        "# Print the recommended job seekers\n",
        "print(recommended_job_seekers)"
      ],
      "metadata": {
        "colab": {
          "base_uri": "https://localhost:8080/"
        },
        "id": "NrM4Y6zH5HCh",
        "outputId": "14f5ac1e-f471-4f34-924e-9f40b63e082a"
      },
      "execution_count": 31,
      "outputs": [
        {
          "output_type": "stream",
          "name": "stdout",
          "text": [
            "             Category               Name                        Email  \\\n",
            "6        Data Science    Christine Myers    christine.myers@gmail.com   \n",
            "180     SAP Developer         Linda Hill         linda.hill@gmail.com   \n",
            "167    Java Developer        Anna Carter        anna.carter@gmail.com   \n",
            "225  Python Developer     Michael Phelps     michael.phelps@gmail.com   \n",
            "2        Data Science       Jason Montes       jason.montes@gmail.com   \n",
            "30       Data Science    Robert Gonzalez    robert.gonzalez@gmail.com   \n",
            "10       Data Science        Sandy Wells        sandy.wells@gmail.com   \n",
            "504        Blockchain       Wesley Brown       wesley.brown@gmail.com   \n",
            "529        Blockchain        William Lee        william.lee@gmail.com   \n",
            "456     ETL Developer  Shannon Rodriguez  shannon.rodriguez@gmail.com   \n",
            "\n",
            "                      Phone  \\\n",
            "6     +1-131-902-7364x03539   \n",
            "180  001-905-818-0939x86817   \n",
            "167           (921)385-5941   \n",
            "225   001-231-615-3663x4270   \n",
            "2        (962)653-8542x1217   \n",
            "30        458-580-6510x1939   \n",
            "10             279-468-6437   \n",
            "504       602.025.6704x7472   \n",
            "529              6263060052   \n",
            "456            480.595.4465   \n",
            "\n",
            "                                             Education  \\\n",
            "6    detail january 2017 b tech computer science en...   \n",
            "180  detail sap technical architect sap technical c...   \n",
            "167  detail august 2014 july 2017 mca computer scie...   \n",
            "225  detail msc computer science pune maharashtra p...   \n",
            "2    detail january 2019 btech electrical electroni...   \n",
            "30   detail data science assurance associate data s...   \n",
            "10   detail data science assurance associate data s...   \n",
            "504  detail january 2014 january 2018 bachelor engi...   \n",
            "529  detail january 2014 january 2018 bachelor engi...   \n",
            "456  detail june 2014 june 2015 bachelor electronic...   \n",
            "\n",
            "                                                Skills  \\\n",
            "6    skill python tableau data visualization studio...   \n",
            "180  detail sap abap skilled document process ident...   \n",
            "167  skill 1 team leading 2 selfmotivated 3 hard wo...   \n",
            "225  skill responsibility hand skill inter personal...   \n",
            "2    skill programming matlab python java labview p...   \n",
            "30   skill programming language python panda numpy ...   \n",
            "10   skill programming language python panda numpy ...   \n",
            "504  skill bitcoin ethereum solidity hyperledger be...   \n",
            "529  skill bitcoin ethereum solidity hyperledger be...   \n",
            "456  skill yes sql knowledgeyes unix knowledgeyes d...   \n",
            "\n",
            "                                            Experience  Experience_Rating  \n",
            "6    13 month python 24 month solution 24 month dat...                  5  \n",
            "180  120 month sap abap ale idoc edi 96 month sap n...                  5  \n",
            "167  6 monthscompany detail company salcluster tech...                  1  \n",
            "225  le 1 year month python le 1 year month restful...                  5  \n",
            "2    le 1 year month excel le 1 year month machine ...                  5  \n",
            "30   24 month jquery 24 month python 24 monthscompa...                  5  \n",
            "10   24 month jquery 24 month python 24 monthscompa...                  5  \n",
            "504  27 month data analytics 11 month computer visi...                  4  \n",
            "529  27 month data analytics 11 month computer visi...                  4  \n",
            "456  le 1 year month data warehouse le 1 year month...                  4  \n"
          ]
        }
      ]
    }
  ]
}