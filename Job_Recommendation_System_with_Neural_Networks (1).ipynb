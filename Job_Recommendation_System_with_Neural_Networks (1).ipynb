{
  "nbformat": 4,
  "nbformat_minor": 0,
  "metadata": {
    "colab": {
      "provenance": []
    },
    "kernelspec": {
      "name": "python3",
      "display_name": "Python 3"
    },
    "language_info": {
      "name": "python"
    }
  },
  "cells": [
    {
      "cell_type": "code",
      "execution_count": 25,
      "metadata": {
        "id": "RIb_CN839TxJ"
      },
      "outputs": [],
      "source": [
        "import numpy as np\n",
        "from keras.models import Sequential\n",
        "from keras.layers import Dense, Dropout\n",
        "from keras.optimizers import Adam\n",
        "from sklearn.metrics.pairwise import cosine_similarity"
      ]
    },
    {
      "cell_type": "code",
      "source": [
        "# Select a random sample of 10% of the job offers and job applications\n",
        "job_offers = pd.read_csv('FinalDataSetJobOffers.csv').sample(frac=0.1, random_state=42)\n",
        "job_seekers= pd.read_csv('CvDatasetFinal_3.csv').sample(frac=0.1, random_state=42)"
      ],
      "metadata": {
        "id": "cWrrnKyq9f6w"
      },
      "execution_count": 26,
      "outputs": []
    },
    {
      "cell_type": "code",
      "source": [
        "# Check for missing values in the job offers dataframe\n",
        "print(\"Missing values in job_offers:\")\n",
        "print(job_offers.isna().sum())\n",
        "\n",
        "# Check for missing values in the job applications dataframe\n",
        "print(\"Missing values in job_applications:\")\n",
        "print(job_seekers.isna().sum())"
      ],
      "metadata": {
        "colab": {
          "base_uri": "https://localhost:8080/"
        },
        "id": "ipp9jmiG9kNC",
        "outputId": "af2c5f52-29d9-4dfc-b2f6-9decfc373a8b"
      },
      "execution_count": 27,
      "outputs": [
        {
          "output_type": "stream",
          "name": "stdout",
          "text": [
            "Missing values in job_offers:\n",
            "Job post               0\n",
            "Company name           0\n",
            "Job description        0\n",
            "Required skills        0\n",
            "Location               0\n",
            "Company rating         0\n",
            "Company review         0\n",
            "Experience required    0\n",
            "dtype: int64\n",
            "Missing values in job_applications:\n",
            "Category             0\n",
            "Name                 0\n",
            "Email                0\n",
            "Phone                0\n",
            "Education            0\n",
            "Skills               0\n",
            "Experience           2\n",
            "Experience_Rating    0\n",
            "dtype: int64\n"
          ]
        }
      ]
    },
    {
      "cell_type": "code",
      "source": [
        "# Drop rows with missing values in job_offers and job_applications dataframes\n",
        "job_offers.dropna(inplace=True)\n",
        "job_seekers.dropna(inplace=True)\n"
      ],
      "metadata": {
        "id": "RlkC9dji9m5Q"
      },
      "execution_count": 28,
      "outputs": []
    },
    {
      "cell_type": "code",
      "source": [
        "job_offers.head()"
      ],
      "metadata": {
        "colab": {
          "base_uri": "https://localhost:8080/",
          "height": 615
        },
        "id": "GgnKIIty_zZd",
        "outputId": "20457f81-f3cc-46c2-cd57-b3b8a98dcf71"
      },
      "execution_count": 31,
      "outputs": [
        {
          "output_type": "execute_result",
          "data": {
            "text/plain": [
              "                                       Job post               Company name  \\\n",
              "23304                       senior manag analyt                mirum india   \n",
              "5550             senior technic lead data engin  infostretch solut pvt ltd   \n",
              "22050                            python develop                 diver lynx   \n",
              "10902  microsoft activ directori applic develop                   accentur   \n",
              "25912                                  programm           smart system llc   \n",
              "\n",
              "                                         Job description  \\\n",
              "23304  experi digit medium includ excel skill googl a...   \n",
              "5550   flexibl shift time accommod deploy critic call...   \n",
              "22050  must hands-on experi python design build maint...   \n",
              "10902  technic experi 1 pki secur certif manag use sc...   \n",
              "25912             look experienc programm develop websit   \n",
              "\n",
              "                                         Required skills             Location  \\\n",
              "23304  tableau manag data studio digit medium sa data...               mumbai   \n",
              "5550   jira ssi bitbucket sourc tree sql queri itil f...                 pune   \n",
              "22050  skill python test data scienc machin learn htm...  bangalore/bengaluru   \n",
              "10902  busi process consult activ directori microsoft...  bangalore/bengaluru   \n",
              "25912  higher educ excel php html mysql skill good or...      yerevan armenia   \n",
              "\n",
              "       Company rating  Company review Experience required  \n",
              "23304         3.30000            30.0               10 yr  \n",
              "5550          3.60000           147.0               10 yr  \n",
              "22050         2.90000            63.0              2-6 yr  \n",
              "10902         4.10000         26528.0              4-6 yr  \n",
              "25912         3.95215           147.0               10 yr  "
            ],
            "text/html": [
              "\n",
              "  <div id=\"df-951ba86d-219c-444a-8cdd-1b684be50067\">\n",
              "    <div class=\"colab-df-container\">\n",
              "      <div>\n",
              "<style scoped>\n",
              "    .dataframe tbody tr th:only-of-type {\n",
              "        vertical-align: middle;\n",
              "    }\n",
              "\n",
              "    .dataframe tbody tr th {\n",
              "        vertical-align: top;\n",
              "    }\n",
              "\n",
              "    .dataframe thead th {\n",
              "        text-align: right;\n",
              "    }\n",
              "</style>\n",
              "<table border=\"1\" class=\"dataframe\">\n",
              "  <thead>\n",
              "    <tr style=\"text-align: right;\">\n",
              "      <th></th>\n",
              "      <th>Job post</th>\n",
              "      <th>Company name</th>\n",
              "      <th>Job description</th>\n",
              "      <th>Required skills</th>\n",
              "      <th>Location</th>\n",
              "      <th>Company rating</th>\n",
              "      <th>Company review</th>\n",
              "      <th>Experience required</th>\n",
              "    </tr>\n",
              "  </thead>\n",
              "  <tbody>\n",
              "    <tr>\n",
              "      <th>23304</th>\n",
              "      <td>senior manag analyt</td>\n",
              "      <td>mirum india</td>\n",
              "      <td>experi digit medium includ excel skill googl a...</td>\n",
              "      <td>tableau manag data studio digit medium sa data...</td>\n",
              "      <td>mumbai</td>\n",
              "      <td>3.30000</td>\n",
              "      <td>30.0</td>\n",
              "      <td>10 yr</td>\n",
              "    </tr>\n",
              "    <tr>\n",
              "      <th>5550</th>\n",
              "      <td>senior technic lead data engin</td>\n",
              "      <td>infostretch solut pvt ltd</td>\n",
              "      <td>flexibl shift time accommod deploy critic call...</td>\n",
              "      <td>jira ssi bitbucket sourc tree sql queri itil f...</td>\n",
              "      <td>pune</td>\n",
              "      <td>3.60000</td>\n",
              "      <td>147.0</td>\n",
              "      <td>10 yr</td>\n",
              "    </tr>\n",
              "    <tr>\n",
              "      <th>22050</th>\n",
              "      <td>python develop</td>\n",
              "      <td>diver lynx</td>\n",
              "      <td>must hands-on experi python design build maint...</td>\n",
              "      <td>skill python test data scienc machin learn htm...</td>\n",
              "      <td>bangalore/bengaluru</td>\n",
              "      <td>2.90000</td>\n",
              "      <td>63.0</td>\n",
              "      <td>2-6 yr</td>\n",
              "    </tr>\n",
              "    <tr>\n",
              "      <th>10902</th>\n",
              "      <td>microsoft activ directori applic develop</td>\n",
              "      <td>accentur</td>\n",
              "      <td>technic experi 1 pki secur certif manag use sc...</td>\n",
              "      <td>busi process consult activ directori microsoft...</td>\n",
              "      <td>bangalore/bengaluru</td>\n",
              "      <td>4.10000</td>\n",
              "      <td>26528.0</td>\n",
              "      <td>4-6 yr</td>\n",
              "    </tr>\n",
              "    <tr>\n",
              "      <th>25912</th>\n",
              "      <td>programm</td>\n",
              "      <td>smart system llc</td>\n",
              "      <td>look experienc programm develop websit</td>\n",
              "      <td>higher educ excel php html mysql skill good or...</td>\n",
              "      <td>yerevan armenia</td>\n",
              "      <td>3.95215</td>\n",
              "      <td>147.0</td>\n",
              "      <td>10 yr</td>\n",
              "    </tr>\n",
              "  </tbody>\n",
              "</table>\n",
              "</div>\n",
              "      <button class=\"colab-df-convert\" onclick=\"convertToInteractive('df-951ba86d-219c-444a-8cdd-1b684be50067')\"\n",
              "              title=\"Convert this dataframe to an interactive table.\"\n",
              "              style=\"display:none;\">\n",
              "        \n",
              "  <svg xmlns=\"http://www.w3.org/2000/svg\" height=\"24px\"viewBox=\"0 0 24 24\"\n",
              "       width=\"24px\">\n",
              "    <path d=\"M0 0h24v24H0V0z\" fill=\"none\"/>\n",
              "    <path d=\"M18.56 5.44l.94 2.06.94-2.06 2.06-.94-2.06-.94-.94-2.06-.94 2.06-2.06.94zm-11 1L8.5 8.5l.94-2.06 2.06-.94-2.06-.94L8.5 2.5l-.94 2.06-2.06.94zm10 10l.94 2.06.94-2.06 2.06-.94-2.06-.94-.94-2.06-.94 2.06-2.06.94z\"/><path d=\"M17.41 7.96l-1.37-1.37c-.4-.4-.92-.59-1.43-.59-.52 0-1.04.2-1.43.59L10.3 9.45l-7.72 7.72c-.78.78-.78 2.05 0 2.83L4 21.41c.39.39.9.59 1.41.59.51 0 1.02-.2 1.41-.59l7.78-7.78 2.81-2.81c.8-.78.8-2.07 0-2.86zM5.41 20L4 18.59l7.72-7.72 1.47 1.35L5.41 20z\"/>\n",
              "  </svg>\n",
              "      </button>\n",
              "      \n",
              "  <style>\n",
              "    .colab-df-container {\n",
              "      display:flex;\n",
              "      flex-wrap:wrap;\n",
              "      gap: 12px;\n",
              "    }\n",
              "\n",
              "    .colab-df-convert {\n",
              "      background-color: #E8F0FE;\n",
              "      border: none;\n",
              "      border-radius: 50%;\n",
              "      cursor: pointer;\n",
              "      display: none;\n",
              "      fill: #1967D2;\n",
              "      height: 32px;\n",
              "      padding: 0 0 0 0;\n",
              "      width: 32px;\n",
              "    }\n",
              "\n",
              "    .colab-df-convert:hover {\n",
              "      background-color: #E2EBFA;\n",
              "      box-shadow: 0px 1px 2px rgba(60, 64, 67, 0.3), 0px 1px 3px 1px rgba(60, 64, 67, 0.15);\n",
              "      fill: #174EA6;\n",
              "    }\n",
              "\n",
              "    [theme=dark] .colab-df-convert {\n",
              "      background-color: #3B4455;\n",
              "      fill: #D2E3FC;\n",
              "    }\n",
              "\n",
              "    [theme=dark] .colab-df-convert:hover {\n",
              "      background-color: #434B5C;\n",
              "      box-shadow: 0px 1px 3px 1px rgba(0, 0, 0, 0.15);\n",
              "      filter: drop-shadow(0px 1px 2px rgba(0, 0, 0, 0.3));\n",
              "      fill: #FFFFFF;\n",
              "    }\n",
              "  </style>\n",
              "\n",
              "      <script>\n",
              "        const buttonEl =\n",
              "          document.querySelector('#df-951ba86d-219c-444a-8cdd-1b684be50067 button.colab-df-convert');\n",
              "        buttonEl.style.display =\n",
              "          google.colab.kernel.accessAllowed ? 'block' : 'none';\n",
              "\n",
              "        async function convertToInteractive(key) {\n",
              "          const element = document.querySelector('#df-951ba86d-219c-444a-8cdd-1b684be50067');\n",
              "          const dataTable =\n",
              "            await google.colab.kernel.invokeFunction('convertToInteractive',\n",
              "                                                     [key], {});\n",
              "          if (!dataTable) return;\n",
              "\n",
              "          const docLinkHtml = 'Like what you see? Visit the ' +\n",
              "            '<a target=\"_blank\" href=https://colab.research.google.com/notebooks/data_table.ipynb>data table notebook</a>'\n",
              "            + ' to learn more about interactive tables.';\n",
              "          element.innerHTML = '';\n",
              "          dataTable['output_type'] = 'display_data';\n",
              "          await google.colab.output.renderOutput(dataTable, element);\n",
              "          const docLink = document.createElement('div');\n",
              "          docLink.innerHTML = docLinkHtml;\n",
              "          element.appendChild(docLink);\n",
              "        }\n",
              "      </script>\n",
              "    </div>\n",
              "  </div>\n",
              "  "
            ]
          },
          "metadata": {},
          "execution_count": 31
        }
      ]
    },
    {
      "cell_type": "code",
      "source": [
        "# Prepare input data\n",
        "job_skills = job_seekers['Skills'].str.get_dummies(sep=',')\n",
        "job_skills = job_skills.reindex(columns=job_offers['Required skills'].unique(), fill_value=0)\n",
        "\n",
        "job_features = np.array(job_skills)"
      ],
      "metadata": {
        "id": "FlA2q4JD_SmH"
      },
      "execution_count": 29,
      "outputs": []
    },
    {
      "cell_type": "code",
      "source": [
        "# Prepare target data\n",
        "target_job = 'python develop'\n",
        "target_job_description = job_offers[job_offers['Job post'] == target_job]['Job description'].values[0]\n",
        "\n",
        "target_job_skills = pd.DataFrame({'skills': [target_job_description]})\n",
        "target_job_skills = target_job_skills['skills'].str.get_dummies(sep=',')\n",
        "target_job_skills = target_job_skills.reindex(columns=job_offers['Required skills'].unique(), fill_value=0)\n",
        "\n",
        "target_features = np.array(target_job_skills)"
      ],
      "metadata": {
        "id": "3Fwymoxr_cbr"
      },
      "execution_count": 32,
      "outputs": []
    },
    {
      "cell_type": "code",
      "source": [
        "# Define and train the model\n",
        "model = Sequential()\n",
        "model.add(Dense(128, input_dim=job_features.shape[1], activation='relu'))\n",
        "model.add(Dropout(0.2))\n",
        "model.add(Dense(64, activation='relu'))\n",
        "model.add(Dropout(0.2))\n",
        "model.add(Dense(target_features.shape[1], activation='sigmoid'))\n",
        "\n",
        "adam = Adam(learning_rate=0.001)\n",
        "model.compile(loss='mse', optimizer=adam)"
      ],
      "metadata": {
        "id": "qA2mR0n5_76R"
      },
      "execution_count": 33,
      "outputs": []
    },
    {
      "cell_type": "code",
      "source": [
        "num_samples = job_features.shape[0]\n",
        "target_job_data = np.tile(target_features, (num_samples, 1))\n",
        "model.fit(job_features, target_job_data, epochs=10, batch_size=32)\n"
      ],
      "metadata": {
        "colab": {
          "base_uri": "https://localhost:8080/"
        },
        "id": "-Eb0uhMw_9we",
        "outputId": "3b3aef69-5817-4237-b6fd-dadffd767967"
      },
      "execution_count": 35,
      "outputs": [
        {
          "output_type": "stream",
          "name": "stdout",
          "text": [
            "Epoch 1/10\n",
            "2/2 [==============================] - 1s 21ms/step - loss: 0.2499\n",
            "Epoch 2/10\n",
            "2/2 [==============================] - 0s 15ms/step - loss: 0.2494\n",
            "Epoch 3/10\n",
            "2/2 [==============================] - 0s 17ms/step - loss: 0.2489\n",
            "Epoch 4/10\n",
            "2/2 [==============================] - 0s 18ms/step - loss: 0.2484\n",
            "Epoch 5/10\n",
            "2/2 [==============================] - 0s 21ms/step - loss: 0.2480\n",
            "Epoch 6/10\n",
            "2/2 [==============================] - 0s 17ms/step - loss: 0.2475\n",
            "Epoch 7/10\n",
            "2/2 [==============================] - 0s 15ms/step - loss: 0.2470\n",
            "Epoch 8/10\n",
            "2/2 [==============================] - 0s 16ms/step - loss: 0.2465\n",
            "Epoch 9/10\n",
            "2/2 [==============================] - 0s 20ms/step - loss: 0.2460\n",
            "Epoch 10/10\n",
            "2/2 [==============================] - 0s 15ms/step - loss: 0.2455\n"
          ]
        },
        {
          "output_type": "execute_result",
          "data": {
            "text/plain": [
              "<keras.callbacks.History at 0x7f538626c7f0>"
            ]
          },
          "metadata": {},
          "execution_count": 35
        }
      ]
    },
    {
      "cell_type": "code",
      "source": [
        "# Make recommendations for a new job seeker\n",
        "new_job_seeker = pd.DataFrame({'skills': ['Python, SQL, Machine Learning']})\n",
        "new_job_seeker_skills = new_job_seeker['skills'].str.get_dummies(sep=',')\n",
        "new_job_seeker_skills = new_job_seeker_skills.reindex(columns=job_offers['Required skills'].unique(), fill_value=0)\n",
        "\n",
        "new_job_seeker_features = np.array(new_job_seeker_skills)"
      ],
      "metadata": {
        "id": "sQTFk6-0AKSC"
      },
      "execution_count": 37,
      "outputs": []
    },
    {
      "cell_type": "code",
      "source": [
        "# Predict the job offers that are most similar to the new job seeker's skills\n",
        "predictions = model.predict(new_job_seeker_features)\n",
        "similarities = cosine_similarity(predictions, job_features)\n",
        "most_similar_job_indices = np.argsort(similarities)[-5:]\n",
        "\n",
        "recommended_job_titles = job_offers.iloc[most_similar_job_indices.ravel()]['Job post'].values\n",
        "print(recommended_job_titles)\n"
      ],
      "metadata": {
        "colab": {
          "base_uri": "https://localhost:8080/"
        },
        "id": "UmNoVBISAPWZ",
        "outputId": "94255298-2aff-4595-fab5-b7723b3b7b03"
      },
      "execution_count": 43,
      "outputs": [
        {
          "output_type": "stream",
          "name": "stdout",
          "text": [
            "1/1 [==============================] - 0s 34ms/step\n",
            "['senior manag analyt' 'softwar engin android'\n",
            " 'associ princip engin big data' 'machin learn engin'\n",
            " 'senior data analyst' 'softwar engin java' 'reactj sr softwar engin'\n",
            " 'lead python develop b1 visa' 'senior staff engin' 'dotnet develop'\n",
            " 'technolog consult sap secur' 'embed softwar engin'\n",
            " 'senior assist system engin' 'softwar engin ii' 'l3 support engin'\n",
            " 'data engin ndhm delhi' 'senior machin learn engin' 'data engin'\n",
            " 'softwar engineer-java develop' 'data scientist'\n",
            " 'manufactur engin me applic lead' 'graphic design'\n",
            " 'busi data analyst market' 'specialist softwar engin' 'data scientist'\n",
            " 'senior intermedi softwar engin' 'senior java develop'\n",
            " 'senior technic lead data engin' 'python develop'\n",
            " 'microsoft activ directori applic develop' 'programm' 'sr softwar engin'\n",
            " 'market execut' 'softwar engin rubi rail' 'group manag'\n",
            " 'site reliabl engin' 'softwar engin' 'linux system engineer/linux admin'\n",
            " 'big data engin' 'senior project manag epm enterpris perform manag'\n",
            " 'princip group engin manag' 'qualiti analyst' 'sr sw test engin'\n",
            " 'oper execut' 'data scientist' 'java enterpris edit applic develop'\n",
            " 'senior softwar engin' 'manag data scienc'\n",
            " 'senior technic lead data engin' 'backend sde ii data scienc'\n",
            " 'data engin informatica']\n"
          ]
        }
      ]
    }
  ]
}