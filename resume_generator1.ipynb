{
  "cells": [
    {
      "cell_type": "code",
      "execution_count": null,
      "id": "eacde625",
      "metadata": {
        "id": "eacde625"
      },
      "outputs": [],
      "source": [
        "import openai\n",
        "import time\n",
        "\n",
        "openai.api_key = \"YOUR_API_KEY\"\n",
        "\n",
        "def generate_resume(name, job_title, summary, experience, education):\n",
        "    prompt = f\"My name is {name}. I am a {job_title} with {experience} years of experience. My summary is {summary}. My education is {education}.\"\n",
        "    \n",
        "    response = openai.Completion.create(\n",
        "      engine=\"davinci\",\n",
        "      prompt=prompt,\n",
        "      max_tokens=1024,\n",
        "      n=1,\n",
        "      stop=None,\n",
        "      temperature=0.5,\n",
        "    )\n",
        "\n",
        "    resume = response.choices[0].text.strip()\n",
        "    return resume\n",
        "\n",
        "\n"
      ]
    },
    {
      "cell_type": "code",
      "execution_count": null,
      "id": "d4c7a2e3",
      "metadata": {
        "id": "d4c7a2e3",
        "outputId": "22599fe9-0fd1-4f19-e84c-b43ad0f40632"
      },
      "outputs": [
        {
          "name": "stdout",
          "output_type": "stream",
          "text": [
            "Welcome to the resume generator!\n",
            "\n",
            "What is your name? arij\n",
            "What is your desired job title? a data science engineering student\n"
          ]
        }
      ],
      "source": [
        "def main():\n",
        "    print(\"Welcome to the resume generator!\\n\")\n",
        "    time.sleep(1)\n",
        "\n",
        "    name = input(\"What is your name? \")\n",
        "    time.sleep(1)\n",
        "\n",
        "    job_title = input(\"What is your desired job title? \")\n",
        "    time.sleep(1)\n",
        "\n",
        "    summary = input(\"Please provide a summary of your experience and qualifications: \")\n",
        "    time.sleep(1)\n",
        "\n",
        "    experience = input(\"How many years of experience do you have? \")\n",
        "    time.sleep(1)\n",
        "\n",
        "    education = input(\"What is your educational background? \")\n",
        "    time.sleep(1)\n",
        "\n",
        "    resume = generate_resume(name, job_title, summary, experience, education)\n",
        "    print(f\"\\nHere is your resume:\\n{resume}\")\n",
        "\n",
        "if __name__ == '__main__':\n",
        "    main()"
      ]
    },
    {
      "cell_type": "code",
      "execution_count": null,
      "id": "e662d68c",
      "metadata": {
        "id": "e662d68c"
      },
      "outputs": [],
      "source": []
    }
  ],
  "metadata": {
    "kernelspec": {
      "display_name": "Python 3 (ipykernel)",
      "language": "python",
      "name": "python3"
    },
    "language_info": {
      "codemirror_mode": {
        "name": "ipython",
        "version": 3
      },
      "file_extension": ".py",
      "mimetype": "text/x-python",
      "name": "python",
      "nbconvert_exporter": "python",
      "pygments_lexer": "ipython3",
      "version": "3.9.7"
    },
    "colab": {
      "provenance": []
    }
  },
  "nbformat": 4,
  "nbformat_minor": 5
}