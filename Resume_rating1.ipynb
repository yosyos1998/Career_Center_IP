{
  "cells": [
    {
      "cell_type": "code",
      "execution_count": null,
      "id": "fa8f285f",
      "metadata": {
        "id": "fa8f285f",
        "outputId": "9dbc62e0-7a2a-4307-9ef6-bbb68c942134"
      },
      "outputs": [
        {
          "name": "stdout",
          "output_type": "stream",
          "text": [
            "Welcome to the resume rating system!\n",
            "\n"
          ]
        }
      ],
      "source": [
        "import openai\n",
        "\n",
        "openai.api_key = \"YOUR_API_KEY\"\n",
        "\n",
        "def rate_resume(resume):\n",
        "    prompt = f\"Please rate the following resume on a scale of 1 to 10:\\n\\n{resume}\\n\\nRating:\"\n",
        "\n",
        "    response = openai.Completion.create(\n",
        "      engine=\"davinci\",\n",
        "      prompt=prompt,\n",
        "      max_tokens=1024,\n",
        "      n=1,\n",
        "      stop=None,\n",
        "      temperature=0.5,\n",
        "    )\n",
        "\n",
        "    rating = response.choices[0].text.strip()\n",
        "    return rating\n",
        "\n",
        "def main():\n",
        "    print(\"Welcome to the resume rating system!\\n\")\n",
        "\n",
        "    resume = input(\"Please paste the resume you would like to rate: \")\n",
        "    rating = rate_resume(resume)\n",
        "\n",
        "    print(f\"\\nThe rating for this resume is {rating} out of 10.\")\n",
        "\n",
        "if __name__ == '__main__':\n",
        "    main()"
      ]
    },
    {
      "cell_type": "code",
      "execution_count": null,
      "id": "c0869004",
      "metadata": {
        "id": "c0869004"
      },
      "outputs": [],
      "source": []
    }
  ],
  "metadata": {
    "kernelspec": {
      "display_name": "Python 3 (ipykernel)",
      "language": "python",
      "name": "python3"
    },
    "language_info": {
      "codemirror_mode": {
        "name": "ipython",
        "version": 3
      },
      "file_extension": ".py",
      "mimetype": "text/x-python",
      "name": "python",
      "nbconvert_exporter": "python",
      "pygments_lexer": "ipython3",
      "version": "3.9.7"
    },
    "colab": {
      "provenance": []
    }
  },
  "nbformat": 4,
  "nbformat_minor": 5
}