{
 "cells": [
  {
   "cell_type": "code",
   "execution_count": 4,
   "id": "d26f910f",
   "metadata": {},
   "outputs": [],
   "source": [
    "import pandas as pd\n",
    "import numpy as np\n",
    "from sklearn.cluster import KMeans\n"
   ]
  },
  {
   "cell_type": "code",
   "execution_count": 5,
   "id": "15d1c39e",
   "metadata": {},
   "outputs": [],
   "source": [
    "# Load the dataset\n",
    "job_df = pd.read_csv('FinalDataSetJobOffers.csv')"
   ]
  },
  {
   "cell_type": "code",
   "execution_count": 6,
   "id": "fce5a247",
   "metadata": {},
   "outputs": [],
   "source": [
    "# Feature Extraction\n",
    "X = job_df[['Location', 'Required skills']]"
   ]
  },
  {
   "cell_type": "code",
   "execution_count": 7,
   "id": "27ff6c26",
   "metadata": {},
   "outputs": [
    {
     "name": "stderr",
     "output_type": "stream",
     "text": [
      "C:\\Users\\LENOVO\\AppData\\Local\\Temp\\ipykernel_5780\\2784429265.py:2: SettingWithCopyWarning: \n",
      "A value is trying to be set on a copy of a slice from a DataFrame.\n",
      "Try using .loc[row_indexer,col_indexer] = value instead\n",
      "\n",
      "See the caveats in the documentation: https://pandas.pydata.org/pandas-docs/stable/user_guide/indexing.html#returning-a-view-versus-a-copy\n",
      "  X['Location'] = pd.factorize(X['Location'])[0]\n",
      "C:\\Users\\LENOVO\\AppData\\Local\\Temp\\ipykernel_5780\\2784429265.py:3: SettingWithCopyWarning: \n",
      "A value is trying to be set on a copy of a slice from a DataFrame.\n",
      "Try using .loc[row_indexer,col_indexer] = value instead\n",
      "\n",
      "See the caveats in the documentation: https://pandas.pydata.org/pandas-docs/stable/user_guide/indexing.html#returning-a-view-versus-a-copy\n",
      "  X['Required skills'] = pd.factorize(X['Required skills'])[0]\n"
     ]
    }
   ],
   "source": [
    "# Convert Location and Required skills to numeric values\n",
    "X['Location'] = pd.factorize(X['Location'])[0]\n",
    "X['Required skills'] = pd.factorize(X['Required skills'])[0]"
   ]
  },
  {
   "cell_type": "code",
   "execution_count": 8,
   "id": "8d6434cf",
   "metadata": {},
   "outputs": [
    {
     "data": {
      "text/plain": [
       "KMeans(n_clusters=3, random_state=42)"
      ]
     },
     "execution_count": 8,
     "metadata": {},
     "output_type": "execute_result"
    }
   ],
   "source": [
    "# KMeans Clustering\n",
    "kmeans = KMeans(n_clusters=3, random_state=42)\n",
    "kmeans.fit(X)"
   ]
  },
  {
   "cell_type": "code",
   "execution_count": 9,
   "id": "9d901bfc",
   "metadata": {},
   "outputs": [],
   "source": [
    "# Add cluster labels to the dataset\n",
    "job_df['Cluster'] = kmeans.labels_"
   ]
  },
  {
   "cell_type": "code",
   "execution_count": 10,
   "id": "38d506e6",
   "metadata": {},
   "outputs": [
    {
     "name": "stdout",
     "output_type": "stream",
     "text": [
      "Cluster 0:\n",
      "10118         asp.net softwar develop\n",
      "10119                 softwar develop\n",
      "10120                  senior develop\n",
      "10121              senior php develop\n",
      "10122         senior back end develop\n",
      "10123             project manag other\n",
      "10124          senior android develop\n",
      "10125         senior quickbas develop\n",
      "10126                  account execut\n",
      "10127    senior salesforc cpq develop\n",
      "Name: Job post, dtype: object\n",
      "Cluster 1:\n",
      "0                 inform technolog execut\n",
      "1    associ director-inform technolog sap\n",
      "2                   lead inform technolog\n",
      "3          inform technolog project manag\n",
      "4                 inform technolog traine\n",
      "5                        inform technolog\n",
      "6                inform technolog telecom\n",
      "7             manager-it inform technolog\n",
      "8        senior manager- inform technolog\n",
      "9                inform technolog telecom\n",
      "Name: Job post, dtype: object\n",
      "Cluster 2:\n",
      "20049                         senior data analyst sme bank\n",
      "20080                                         busi develop\n",
      "20092                                         busi analyst\n",
      "20098    senior analyst/ assist manag fix incom credit ...\n",
      "20110                                         busi analyst\n",
      "20112                                    technic architect\n",
      "20125                      allianc partership assist manag\n",
      "20128                     java develop w/ cloud background\n",
      "20129                                  senior busi analyst\n",
      "20130                            social medium sr. analyst\n",
      "Name: Job post, dtype: object\n"
     ]
    }
   ],
   "source": [
    "# Print the top 10 job posts for each cluster\n",
    "for cluster in range(3):\n",
    "    print(f'Cluster {cluster}:')\n",
    "    print(job_df[job_df['Cluster']==cluster]['Job post'].head(10))"
   ]
  },
  {
   "cell_type": "code",
   "execution_count": null,
   "id": "05854101",
   "metadata": {},
   "outputs": [],
   "source": []
  }
 ],
 "metadata": {
  "kernelspec": {
   "display_name": "Python 3 (ipykernel)",
   "language": "python",
   "name": "python3"
  },
  "language_info": {
   "codemirror_mode": {
    "name": "ipython",
    "version": 3
   },
   "file_extension": ".py",
   "mimetype": "text/x-python",
   "name": "python",
   "nbconvert_exporter": "python",
   "pygments_lexer": "ipython3",
   "version": "3.9.12"
  }
 },
 "nbformat": 4,
 "nbformat_minor": 5
}
